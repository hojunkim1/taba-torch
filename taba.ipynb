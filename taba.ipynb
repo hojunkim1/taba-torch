{
 "cells": [
  {
   "cell_type": "code",
   "execution_count": null,
   "metadata": {
    "id": "7qpRxm7fpDIG",
    "tags": []
   },
   "outputs": [],
   "source": [
    "# 생선 분류 문제\n",
    "bream_length = [25.4, 26.3, 26.5, 29.0, 29.0, 29.7, 29.7, 30.0, 30.0, 30.7, 31.0, 31.0, 31.5, 32.0, 32.0, 32.0, 33.0,\n",
    "                33.0, 33.5, 33.5, 34.0, 34.0, 34.5, 35.0, 35.0, 35.0, 35.0, 36.0, 36.0, 37.0, 38.5, 38.5, 39.5, 41.0,\n",
    "                41.0]\n",
    "bream_weight = [242.0, 290.0, 340.0, 363.0, 430.0, 450.0, 500.0, 390.0, 450.0, 500.0, 475.0, 500.0, 500.0, 340.0, 600.0,\n",
    "                600.0, 700.0, 700.0, 610.0, 650.0, 575.0, 685.0, 620.0, 680.0, 700.0, 725.0, 720.0, 714.0, 850.0,\n",
    "                1000.0, 920.0, 955.0, 925.0, 975.0, 950.0]"
   ]
  },
  {
   "cell_type": "code",
   "execution_count": null,
   "metadata": {
    "colab": {
     "base_uri": "https://localhost:8080/",
     "height": 449
    },
    "id": "qEORmBDJwnAG",
    "outputId": "a36009b3-e74e-4e74-f850-3795c23e87b2",
    "tags": []
   },
   "outputs": [],
   "source": [
    "# 도미 데이터 시각화\n",
    "import matplotlib.pyplot as plt  # matplotlib의 pyplot 함수를 plt로 줄여서 사용할래여\n",
    "\n",
    "plt.scatter(bream_length, bream_weight)\n",
    "plt.xlabel('length')  # x축: 길이\n",
    "plt.ylabel('weight')  # y축: 무게\n",
    "plt.show()"
   ]
  },
  {
   "cell_type": "code",
   "execution_count": null,
   "metadata": {
    "id": "9J0-OheEzhu2",
    "tags": []
   },
   "outputs": [],
   "source": [
    "# 빙어 데이터 준비\n",
    "smelt_length = [9.8, 10.5, 10.6, 11.0, 11.2, 11.3, 11.8, 11.8, 12.0, 12.2, 12.4, 13.0, 14.3, 15.0]\n",
    "smelt_weight = [6.7, 7.5, 7.0, 9.7, 9.8, 8.7, 10.0, 9.9, 9.8, 12.2, 13.4, 12.2, 19.7, 19.9]"
   ]
  },
  {
   "cell_type": "code",
   "execution_count": null,
   "metadata": {
    "colab": {
     "base_uri": "https://localhost:8080/",
     "height": 449
    },
    "id": "-g4zAM5bztQl",
    "outputId": "845cf8e9-d1f1-4cc0-e507-0c16fa815e61",
    "tags": []
   },
   "outputs": [],
   "source": [
    "# 도미 & 빙어 데이터 시각화\n",
    "plt.scatter(bream_length, bream_weight)\n",
    "plt.scatter(smelt_length, smelt_weight)\n",
    "plt.xlabel('length')\n",
    "plt.ylabel('weight')\n",
    "plt.show()"
   ]
  },
  {
   "cell_type": "code",
   "execution_count": null,
   "metadata": {
    "colab": {
     "base_uri": "https://localhost:8080/"
    },
    "id": "n721cg620FX7",
    "outputId": "9ba1121e-7721-447a-9c22-ca8ff48aae1b",
    "tags": []
   },
   "outputs": [],
   "source": [
    "length = bream_length + smelt_length  # 두 개의 리스트를 이어붙인다!\n",
    "weight = bream_weight + smelt_weight  # 이것도 이어붙이기! (단, length, weight가 pair로 들어가는 만큼, 순서가 중요함.)\n",
    "\n",
    "fish_data = [[l, w] for l, w in zip(length, weight)]\n",
    "\n",
    "print(fish_data)"
   ]
  },
  {
   "cell_type": "code",
   "execution_count": null,
   "metadata": {
    "colab": {
     "base_uri": "https://localhost:8080/"
    },
    "id": "-MjzF3V53AWK",
    "outputId": "34bb0630-40fe-4ac4-c123-80fc14992ad3",
    "tags": []
   },
   "outputs": [],
   "source": [
    "print(len(bream_length))\n",
    "print(len(smelt_length))\n",
    "print(len(fish_data))"
   ]
  },
  {
   "cell_type": "code",
   "execution_count": null,
   "metadata": {
    "colab": {
     "base_uri": "https://localhost:8080/"
    },
    "id": "JrCkyDpi05Fd",
    "outputId": "cc3f9b75-0da2-4a49-a676-4301694ef512",
    "tags": []
   },
   "outputs": [],
   "source": [
    "# 정답 만들기 (도미=1, 빙어)\n",
    "fish_target = [1] * len(bream_length) + [0] * len(smelt_length)\n",
    "print(fish_target)"
   ]
  },
  {
   "cell_type": "code",
   "execution_count": null,
   "metadata": {
    "colab": {
     "base_uri": "https://localhost:8080/"
    },
    "id": "8bnaEpNp3HRA",
    "outputId": "c902b3a3-0522-4446-8eae-a37d642b28cc",
    "tags": []
   },
   "outputs": [],
   "source": [
    "from sklearn.neighbors import KNeighborsClassifier\n",
    "\n",
    "kn = KNeighborsClassifier()  # 클래스 오브젝트 선언\n",
    "kn.fit(fish_data, fish_target)  # 학습(fit)\n",
    "kn.score(fish_data, fish_target)  # k-nearest neighborhood 알고리즘의 성능(정확도)"
   ]
  },
  {
   "cell_type": "code",
   "execution_count": null,
   "metadata": {
    "colab": {
     "base_uri": "https://localhost:8080/",
     "height": 449
    },
    "id": "DPkkplR73rGG",
    "outputId": "610e752d-c1fe-40a2-d4ff-1d508609724e",
    "tags": []
   },
   "outputs": [],
   "source": [
    "# 새로운 데이터로 학습 결과 확인\n",
    "plt.scatter(bream_length, bream_weight)\n",
    "plt.scatter(smelt_length, smelt_weight)\n",
    "plt.scatter(30, 600, marker=\"^\")  # 사람은 바로 구별할 수 있음 (=> 데이터 상, 요건 도미다!)\n",
    "plt.xlabel('length')\n",
    "plt.ylabel('weight')\n",
    "plt.show()"
   ]
  },
  {
   "cell_type": "code",
   "execution_count": null,
   "metadata": {
    "colab": {
     "base_uri": "https://localhost:8080/"
    },
    "id": "-FHzugWx8Jls",
    "outputId": "7dad10e0-fe26-4cf0-cfb9-6ffa3d32bb61",
    "tags": []
   },
   "outputs": [],
   "source": [
    "# 임의의 데이터를 넣고 결과 확인\n",
    "print(\"length=30, weight=600 테스트 데이터의 예측 결과: \", kn.predict([[30, 600]]))"
   ]
  },
  {
   "cell_type": "code",
   "execution_count": null,
   "metadata": {
    "colab": {
     "base_uri": "https://localhost:8080/"
    },
    "id": "rA1hfLgU395M",
    "outputId": "b3315a43-e78c-4cd2-edbc-2a1399ff116b",
    "tags": []
   },
   "outputs": [],
   "source": [
    "print(kn._fit_X)"
   ]
  },
  {
   "cell_type": "code",
   "execution_count": null,
   "metadata": {
    "colab": {
     "base_uri": "https://localhost:8080/"
    },
    "id": "F94_gtQb47pP",
    "outputId": "f995dbae-8a6b-4258-ed53-5744277640f4",
    "tags": []
   },
   "outputs": [],
   "source": [
    "kn49 = KNeighborsClassifier(n_neighbors=49)  # 보통 n_neighbors를 k 라고 부름!\n",
    "kn49.fit(fish_data, fish_target)\n",
    "print(\"정확도 : \", kn49.score(fish_data, fish_target))  # 정확도가 떨어졌습니다 ㅠㅠㅜㅠㅜㅜㅠ"
   ]
  },
  {
   "cell_type": "code",
   "execution_count": null,
   "metadata": {
    "colab": {
     "base_uri": "https://localhost:8080/"
    },
    "id": "XP6eurLyTBHA",
    "outputId": "94377cf2-c580-4598-d308-88a849539832",
    "tags": []
   },
   "outputs": [],
   "source": [
    "# 정확하게 도미놈들만 맞췄네요.\n",
    "print(35 / 49)  # 도미데이터수/전체데이터수"
   ]
  },
  {
   "cell_type": "code",
   "execution_count": null,
   "metadata": {
    "id": "nQ9esS_jTZB6",
    "tags": []
   },
   "outputs": [],
   "source": [
    "# 도미랑 빙어 데이터를 합친 데이터셋\n",
    "fish_length = [25.4, 26.3, 26.5, 29.0, 29.0, 29.7, 29.7, 30.0, 30.0, 30.7, 31.0, 31.0,\n",
    "               31.5, 32.0, 32.0, 32.0, 33.0, 33.0, 33.5, 33.5, 34.0, 34.0, 34.5, 35.0,\n",
    "               35.0, 35.0, 35.0, 36.0, 36.0, 37.0, 38.5, 38.5, 39.5, 41.0, 41.0, 9.8,\n",
    "               10.5, 10.6, 11.0, 11.2, 11.3, 11.8, 11.8, 12.0, 12.2, 12.4, 13.0, 14.3, 15.0]\n",
    "fish_weight = [242.0, 290.0, 340.0, 363.0, 430.0, 450.0, 500.0, 390.0, 450.0, 500.0, 475.0, 500.0,\n",
    "               500.0, 340.0, 600.0, 600.0, 700.0, 700.0, 610.0, 650.0, 575.0, 685.0, 620.0, 680.0,\n",
    "               700.0, 725.0, 720.0, 714.0, 850.0, 1000.0, 920.0, 955.0, 925.0, 975.0, 950.0, 6.7,\n",
    "               7.5, 7.0, 9.7, 9.8, 8.7, 10.0, 9.9, 9.8, 12.2, 13.4, 12.2, 19.7, 19.9]"
   ]
  },
  {
   "cell_type": "code",
   "execution_count": null,
   "metadata": {
    "id": "j38nWOdmYA6I",
    "tags": []
   },
   "outputs": [],
   "source": [
    "fish_data = [[l, w] for l, w in zip(fish_length, fish_weight)]\n",
    "fish_target = [1] * 35 + [0] * 14"
   ]
  },
  {
   "cell_type": "code",
   "execution_count": null,
   "metadata": {
    "id": "lxelu-89YQPh",
    "tags": []
   },
   "outputs": [],
   "source": [
    "# 총 49개의 샘플(sample) 중 35개를 훈련세트, 14개를 테스트세트로 사용 (우선 직접 인덱싱 해봅시다)\n",
    "train_input = fish_data[:35]\n",
    "train_target = fish_target[:35]\n",
    "test_input = fish_data[35:]\n",
    "test_target = fish_target[35:]"
   ]
  },
  {
   "cell_type": "code",
   "execution_count": null,
   "metadata": {
    "colab": {
     "base_uri": "https://localhost:8080/"
    },
    "id": "vqm_vohZZBfE",
    "outputId": "3f1a5e71-0bd7-4d35-eba2-d02863ef0a13",
    "tags": []
   },
   "outputs": [],
   "source": [
    "# 모델 불러오기\n",
    "from sklearn.neighbors import KNeighborsClassifier\n",
    "\n",
    "kn = KNeighborsClassifier()\n",
    "kn = kn.fit(train_input, train_target)\n",
    "print(\"Train 데이터셋에 대한 정확도(Train Accuracy): \", kn.score(train_input, train_target))\n",
    "print(\"Test 데이터셋에 대한 정확도(Test Accuracy): \", kn.score(test_input, test_target))"
   ]
  },
  {
   "cell_type": "code",
   "execution_count": null,
   "metadata": {
    "id": "t5Md0crEYRRr",
    "tags": []
   },
   "outputs": [],
   "source": [
    "from sklearn.model_selection import train_test_split\n",
    "\n",
    "# test_size는 앞선 예시의 test 데이터셋과 개수를 동일하게 하기 위해 설정한겁니다. 이렇게까지 세세히 설정 안하고 그냥 0.3으로 하셔도 됩니다.\n",
    "X_train, X_test, y_train, y_test = train_test_split(fish_data, fish_target, test_size=0.28, random_state=1024,\n",
    "                                                    shuffle=True, stratify=fish_target)"
   ]
  },
  {
   "cell_type": "code",
   "execution_count": null,
   "metadata": {
    "colab": {
     "base_uri": "https://localhost:8080/"
    },
    "id": "a4-my6CEcIBB",
    "outputId": "15de44ea-30f4-491d-f4e1-c36d82a8aa24",
    "tags": []
   },
   "outputs": [],
   "source": [
    "print(f\"학습데이터 수: {len(X_train)}, 테스트데이터 수: {len(X_test)}\")"
   ]
  },
  {
   "cell_type": "code",
   "execution_count": null,
   "metadata": {
    "colab": {
     "base_uri": "https://localhost:8080/"
    },
    "id": "MoIUTcmTcML_",
    "outputId": "b93c2cfa-7899-4580-f2ed-846679d1786b",
    "tags": []
   },
   "outputs": [],
   "source": [
    "from sklearn.neighbors import KNeighborsClassifier\n",
    "\n",
    "kn = KNeighborsClassifier()\n",
    "kn = kn.fit(X_train, y_train)\n",
    "print(\"Train 데이터셋에 대한 정확도(Train Accuracy): \", kn.score(X_train, y_train))\n",
    "print(\"Test 데이터셋에 대한 정확도(Test Accuracy): \", kn.score(X_test, y_test))"
   ]
  },
  {
   "cell_type": "code",
   "execution_count": null,
   "metadata": {
    "id": "K-sayzvzc0GR",
    "tags": []
   },
   "outputs": [],
   "source": [
    "train_input, train_target, test_input, test_target = X_train, y_train, X_test, y_test"
   ]
  },
  {
   "cell_type": "code",
   "execution_count": null,
   "metadata": {
    "colab": {
     "base_uri": "https://localhost:8080/",
     "height": 449
    },
    "id": "An7uLZ1KDunJ",
    "outputId": "9fb934a1-5bff-456a-df5f-8ddb31add6e8",
    "tags": []
   },
   "outputs": [],
   "source": [
    "import numpy as np\n",
    "from sklearn.neighbors import KNeighborsClassifier\n",
    "from sklearn.model_selection import train_test_split\n",
    "import matplotlib.pyplot as plt\n",
    "\n",
    "fish_length = [25.4, 26.3, 26.5, 29.0, 29.0, 29.7, 29.7, 30.0, 30.0, 30.7, 31.0, 31.0,\n",
    "               31.5, 32.0, 32.0, 32.0, 33.0, 33.0, 33.5, 33.5, 34.0, 34.0, 34.5, 35.0,\n",
    "               35.0, 35.0, 35.0, 36.0, 36.0, 37.0, 38.5, 38.5, 39.5, 41.0, 41.0, 9.8,\n",
    "               10.5, 10.6, 11.0, 11.2, 11.3, 11.8, 11.8, 12.0, 12.2, 12.4, 13.0, 14.3, 15.0]\n",
    "fish_weight = [242.0, 290.0, 340.0, 363.0, 430.0, 450.0, 500.0, 390.0, 450.0, 500.0, 475.0, 500.0,\n",
    "               500.0, 340.0, 600.0, 600.0, 700.0, 700.0, 610.0, 650.0, 575.0, 685.0, 620.0, 680.0,\n",
    "               700.0, 725.0, 720.0, 714.0, 850.0, 1000.0, 920.0, 955.0, 925.0, 975.0, 950.0, 6.7,\n",
    "               7.5, 7.0, 9.7, 9.8, 8.7, 10.0, 9.9, 9.8, 12.2, 13.4, 12.2, 19.7, 19.9]\n",
    "\n",
    "fish_data = [[l, w] for l, w in zip(fish_length, fish_weight)]\n",
    "fish_target = [1] * 35 + [0] * 14\n",
    "X_train, X_test, y_train, y_test = train_test_split(fish_data, fish_target, test_size=0.28,\n",
    "                                                    random_state=1024, shuffle=True, stratify=fish_target)\n",
    "X_train, y_train, X_test, y_test = np.array(X_train), np.array(y_train), np.array(X_test), np.array(y_test)\n",
    "\n",
    "kn = KNeighborsClassifier()\n",
    "kn.fit(X_train, y_train)\n",
    "\n",
    "plt.scatter(X_train[:, 0], X_train[:, 1])\n",
    "plt.scatter(25, 150, marker='^')  # 새로운 데이터셋 (length=25, weight=150)\n",
    "plt.xlabel(\"length\")\n",
    "plt.ylabel(\"weight\")\n",
    "plt.show()"
   ]
  },
  {
   "cell_type": "code",
   "execution_count": null,
   "metadata": {
    "id": "MKMQV7lqecg0",
    "tags": []
   },
   "outputs": [],
   "source": [
    "# 넘파이 배열로 변환\n",
    "import numpy as np\n",
    "\n",
    "train_input, train_target, test_input, test_target = np.array(train_input), np.array(train_target), np.array(\n",
    "    test_input), np.array(test_target)"
   ]
  },
  {
   "cell_type": "code",
   "execution_count": null,
   "metadata": {
    "colab": {
     "base_uri": "https://localhost:8080/"
    },
    "id": "6Gxj8G6dc7Ug",
    "outputId": "1dcb4d70-f3b7-442d-d450-3e470e2a56f1",
    "tags": []
   },
   "outputs": [],
   "source": [
    "from sklearn.neighbors import KNeighborsClassifier\n",
    "\n",
    "kn = KNeighborsClassifier()\n",
    "kn.fit(train_input, train_target)\n",
    "kn.score(test_input, test_target)"
   ]
  },
  {
   "cell_type": "code",
   "execution_count": null,
   "metadata": {
    "colab": {
     "base_uri": "https://localhost:8080/"
    },
    "id": "SFv9bqh7dNsj",
    "outputId": "bb64c0e2-ef97-4269-de28-55f3728f9bd0",
    "tags": []
   },
   "outputs": [],
   "source": [
    "train_input.shape"
   ]
  },
  {
   "cell_type": "code",
   "execution_count": null,
   "metadata": {
    "colab": {
     "base_uri": "https://localhost:8080/"
    },
    "id": "ml6CIfDsdd9h",
    "outputId": "b0c59357-ee59-4ff8-80f9-08a16639832e",
    "tags": []
   },
   "outputs": [],
   "source": [
    "train_input"
   ]
  },
  {
   "cell_type": "code",
   "execution_count": null,
   "metadata": {
    "colab": {
     "base_uri": "https://localhost:8080/",
     "height": 449
    },
    "id": "BrjVpHmRc-hs",
    "outputId": "c2c3f1a7-4e16-4b73-d17d-cdd9704e095e",
    "tags": []
   },
   "outputs": [],
   "source": [
    "# 새로운 데이터\n",
    "import matplotlib.pyplot as plt\n",
    "\n",
    "plt.scatter(train_input[:, 0], train_input[:, 1])  # 이런 인덱싱은 넘파이에서만!\n",
    "plt.scatter(25, 150, marker='^')\n",
    "plt.xlabel(\"length\")\n",
    "plt.ylabel(\"weight\")\n",
    "plt.show()"
   ]
  },
  {
   "cell_type": "code",
   "execution_count": null,
   "metadata": {
    "colab": {
     "base_uri": "https://localhost:8080/"
    },
    "id": "c5DBxn8mdgLr",
    "outputId": "c171e0d3-54e8-4aba-e318-4f051f2f7738",
    "tags": []
   },
   "outputs": [],
   "source": [
    "print(\"새로운 length=25, weight=150 데이터의 예측 결과: \", kn.predict([[25, 150]]))"
   ]
  },
  {
   "cell_type": "code",
   "execution_count": null,
   "metadata": {
    "colab": {
     "base_uri": "https://localhost:8080/",
     "height": 449
    },
    "id": "PLoCMh00eJIR",
    "outputId": "6a38fab5-7183-4d49-a135-9834990575c1",
    "tags": []
   },
   "outputs": [],
   "source": [
    "# 디폴트 k=5, [25,150]과 최근접 이웃들의 거리와 데이터 인덱스를 얻어서 확인해보자! (즉, 새로운 데이터 예측의 단서)\n",
    "distances, indexes = kn.kneighbors([[25, 150]])\n",
    "\n",
    "plt.scatter(train_input[:, 0], train_input[:, 1])\n",
    "plt.scatter(25, 150, marker=\"^\")\n",
    "plt.scatter(train_input[indexes, 0], train_input[indexes, 1], marker='D')\n",
    "plt.xlabel('length')\n",
    "plt.ylabel('weight')\n",
    "plt.show()"
   ]
  },
  {
   "cell_type": "code",
   "execution_count": null,
   "metadata": {
    "colab": {
     "base_uri": "https://localhost:8080/",
     "height": 449
    },
    "id": "FQE8W4F8gBPA",
    "outputId": "38f23423-9275-4f78-c0fc-e6ebee768010",
    "tags": []
   },
   "outputs": [],
   "source": [
    "plt.scatter(train_input[:, 0], train_input[:, 1])\n",
    "plt.scatter(25, 150, marker=\"^\")\n",
    "plt.scatter(train_input[indexes, 0], train_input[indexes, 1], marker='D')\n",
    "plt.xlim((0, 1000))  # x축의 범위(limit)를 0~1000 사이로 맞춤\n",
    "plt.xlabel('length')\n",
    "plt.ylabel('weight')\n",
    "plt.show()"
   ]
  },
  {
   "cell_type": "code",
   "execution_count": null,
   "metadata": {
    "id": "XrzgA80vhQCt",
    "tags": []
   },
   "outputs": [],
   "source": [
    "# Standardization\n",
    "import numpy as np\n",
    "\n",
    "mean = np.mean(train_input, axis=0)\n",
    "std = np.std(train_input, axis=0)"
   ]
  },
  {
   "cell_type": "code",
   "execution_count": null,
   "metadata": {
    "colab": {
     "base_uri": "https://localhost:8080/",
     "height": 449
    },
    "id": "0InAl-uUL8f7",
    "outputId": "a0181cb2-0086-4ead-81cd-7e3967b96243",
    "tags": []
   },
   "outputs": [],
   "source": [
    "mean = np.mean(X_train, axis=0)\n",
    "std = np.std(X_train, axis=0)\n",
    "\n",
    "train_scaled = (X_train - mean) / std\n",
    "new = ([25, 150] - mean) / std\n",
    "\n",
    "plt.scatter(train_scaled[:, 0], train_scaled[:, 1])\n",
    "plt.scatter(new[0], new[1], marker=\"^\")\n",
    "plt.xlabel('length')\n",
    "plt.ylabel('weight')\n",
    "plt.show()\n",
    "\n",
    "# 산점도의 x,y축 범위가 -1.5~1.5 사이로 바뀌었다!"
   ]
  },
  {
   "cell_type": "code",
   "execution_count": null,
   "metadata": {
    "colab": {
     "base_uri": "https://localhost:8080/"
    },
    "id": "ITSywqyDgfbg",
    "outputId": "5898e55b-9755-49ac-c6c4-98ee1ef9cebb",
    "tags": []
   },
   "outputs": [],
   "source": [
    "print(mean, std)"
   ]
  },
  {
   "cell_type": "code",
   "execution_count": null,
   "metadata": {
    "colab": {
     "base_uri": "https://localhost:8080/"
    },
    "id": "2ThtfA0ZjOOv",
    "outputId": "766732bd-a2fc-4aec-e9e7-2f6207b7b4db",
    "tags": []
   },
   "outputs": [],
   "source": [
    "train_input.shape"
   ]
  },
  {
   "cell_type": "code",
   "execution_count": null,
   "metadata": {
    "colab": {
     "base_uri": "https://localhost:8080/"
    },
    "id": "PZNPpfZ_jPEo",
    "outputId": "99535e37-0d2e-4372-a99a-5d7b25b58280",
    "tags": []
   },
   "outputs": [],
   "source": [
    "print(\"평균: \", mean)\n",
    "print(\"표준편차: \", std)"
   ]
  },
  {
   "cell_type": "code",
   "execution_count": null,
   "metadata": {
    "colab": {
     "base_uri": "https://localhost:8080/",
     "height": 449
    },
    "id": "aMCajM9nkE7s",
    "outputId": "9a7cb15c-ccca-4099-83a7-854b6e5e69e5",
    "tags": []
   },
   "outputs": [],
   "source": [
    "train_scaled = (train_input - mean) / std\n",
    "new = ([25, 150] - mean) / std\n",
    "\n",
    "plt.scatter(train_scaled[:, 0], train_scaled[:, 1])\n",
    "plt.scatter(new[0], new[1], marker=\"^\")\n",
    "plt.xlabel('length')\n",
    "plt.ylabel('weight')\n",
    "plt.show()\n",
    "\n",
    "# 산점도의 x,y축 범위가 -1.5~1.5 사이로 바뀌었다!"
   ]
  },
  {
   "cell_type": "code",
   "execution_count": null,
   "metadata": {
    "colab": {
     "base_uri": "https://localhost:8080/",
     "height": 75
    },
    "id": "3BsreBXrk9SB",
    "outputId": "5a4a1751-f70a-428e-f9e1-755db6bb94f0",
    "tags": []
   },
   "outputs": [],
   "source": [
    "kn.fit(train_scaled, train_target)"
   ]
  },
  {
   "cell_type": "code",
   "execution_count": null,
   "metadata": {
    "colab": {
     "base_uri": "https://localhost:8080/"
    },
    "id": "g9-yQ0fwkKR9",
    "outputId": "404911e2-4047-4c3f-8a97-eb91bb369178",
    "tags": []
   },
   "outputs": [],
   "source": [
    "test_scaled = (test_input - mean) / std\n",
    "\n",
    "print(kn.score(test_scaled, test_target))"
   ]
  },
  {
   "cell_type": "code",
   "execution_count": null,
   "metadata": {
    "colab": {
     "base_uri": "https://localhost:8080/"
    },
    "id": "FOgEoFh3lWGm",
    "outputId": "9baef14f-a9fa-4d9e-a499-c2d17ac22a42",
    "tags": []
   },
   "outputs": [],
   "source": [
    "print(kn.predict([new]))"
   ]
  },
  {
   "cell_type": "code",
   "execution_count": null,
   "metadata": {
    "colab": {
     "base_uri": "https://localhost:8080/",
     "height": 449
    },
    "id": "4OvLyC8ilasE",
    "outputId": "351e64e6-e45b-41fb-ed89-024a477c33ed",
    "tags": []
   },
   "outputs": [],
   "source": [
    "distances, indexes = kn.kneighbors([new])\n",
    "\n",
    "plt.scatter(train_scaled[:, 0], train_scaled[:, 1])\n",
    "plt.scatter(new[0], new[1], marker=\"^\")\n",
    "plt.scatter(train_scaled[indexes, 0], train_scaled[indexes, 1], marker='D')\n",
    "plt.xlabel('length')\n",
    "plt.ylabel('weight')\n",
    "plt.show()"
   ]
  },
  {
   "cell_type": "code",
   "execution_count": null,
   "metadata": {
    "id": "qwwnBfCFl9pL",
    "tags": []
   },
   "outputs": [],
   "source": [
    "# 농어의 길이와 무게 데이터\n",
    "import numpy as np\n",
    "\n",
    "perch_length = np.array([8.4, 13.7, 15.0, 16.2, 17.4, 18.0, 18.7, 19.0, 19.6, 20.0, 21.0,\n",
    "                         21.0, 21.0, 21.3, 22.0, 22.0, 22.0, 22.0, 22.0, 22.5, 22.5, 22.7,\n",
    "                         23.0, 23.5, 24.0, 24.0, 24.6, 25.0, 25.6, 26.5, 27.3, 27.5, 27.5,\n",
    "                         27.5, 28.0, 28.7, 30.0, 32.8, 34.5, 35.0, 36.5, 36.0, 37.0, 37.0,\n",
    "                         39.0, 39.0, 39.0, 40.0, 40.0, 40.0, 40.0, 42.0, 43.0, 43.0, 43.5,\n",
    "                         44.0])\n",
    "perch_weight = np.array([5.9, 32.0, 40.0, 51.5, 70.0, 100.0, 78.0, 80.0, 85.0, 85.0, 110.0,\n",
    "                         115.0, 125.0, 130.0, 120.0, 120.0, 130.0, 135.0, 110.0, 130.0,\n",
    "                         150.0, 145.0, 150.0, 170.0, 225.0, 145.0, 188.0, 180.0, 197.0,\n",
    "                         218.0, 300.0, 260.0, 265.0, 250.0, 250.0, 300.0, 320.0, 514.0,\n",
    "                         556.0, 840.0, 685.0, 700.0, 700.0, 690.0, 900.0, 650.0, 820.0,\n",
    "                         850.0, 900.0, 1015.0, 820.0, 1100.0, 1000.0, 1100.0, 1000.0,\n",
    "                         1000.0])"
   ]
  },
  {
   "cell_type": "code",
   "execution_count": null,
   "metadata": {
    "colab": {
     "base_uri": "https://localhost:8080/",
     "height": 449
    },
    "id": "bEcRmSFto6Z6",
    "outputId": "da620f74-8850-44db-ce21-15e7b92d255c",
    "tags": []
   },
   "outputs": [],
   "source": [
    "# 농어 데이터 시각화\n",
    "import matplotlib.pyplot as plt\n",
    "\n",
    "plt.scatter(perch_length, perch_weight)\n",
    "plt.xlabel(\"lenght\")\n",
    "plt.ylabel(\"weight\")\n",
    "plt.show()"
   ]
  },
  {
   "cell_type": "code",
   "execution_count": null,
   "metadata": {
    "id": "dbjkAGS0pekE",
    "tags": []
   },
   "outputs": [],
   "source": [
    "# 훈련세트와 테스트세트로 분할\n",
    "from sklearn.model_selection import train_test_split\n",
    "\n",
    "train_input, test_input, train_target, test_target = train_test_split(perch_length, perch_weight, random_state=42)"
   ]
  },
  {
   "cell_type": "code",
   "execution_count": null,
   "metadata": {
    "colab": {
     "base_uri": "https://localhost:8080/"
    },
    "id": "zPwYbcK1kEQl",
    "outputId": "58c0e24b-1716-486a-87f4-50519e57c93c",
    "tags": []
   },
   "outputs": [],
   "source": [
    "train_input.shape"
   ]
  },
  {
   "cell_type": "code",
   "execution_count": null,
   "metadata": {
    "colab": {
     "base_uri": "https://localhost:8080/"
    },
    "id": "bTdhaUI6qHhB",
    "outputId": "8f7200c0-ef06-461d-93d8-83cdd08b2da3",
    "tags": []
   },
   "outputs": [],
   "source": [
    "train_input = train_input.reshape(-1, 1)\n",
    "test_input = test_input.reshape(-1, 1)\n",
    "print(train_input.shape, test_input.shape)"
   ]
  },
  {
   "cell_type": "code",
   "execution_count": null,
   "metadata": {
    "colab": {
     "base_uri": "https://localhost:8080/"
    },
    "id": "hdvtgjj9qOHx",
    "outputId": "5afedc7d-9ba6-4a0a-f296-5fb4b45f1f35",
    "tags": []
   },
   "outputs": [],
   "source": [
    "from sklearn.neighbors import KNeighborsRegressor\n",
    "\n",
    "knr = KNeighborsRegressor()\n",
    "knr.fit(train_input, train_target)\n",
    "print(knr.score(test_input, test_target))  # 결정계수"
   ]
  },
  {
   "cell_type": "code",
   "execution_count": null,
   "metadata": {
    "colab": {
     "base_uri": "https://localhost:8080/"
    },
    "id": "4eIoLbP3tugK",
    "outputId": "30ace42e-29e9-4f8a-da2e-f5d74273d142",
    "tags": []
   },
   "outputs": [],
   "source": [
    "from sklearn.metrics import mean_absolute_error\n",
    "\n",
    "test_prediction = knr.predict(test_input)\n",
    "\n",
    "mae = mean_absolute_error(test_target, test_prediction)\n",
    "print(mae)  # 평균적으로 19g 정도 target 값과 다르다!"
   ]
  },
  {
   "cell_type": "code",
   "execution_count": null,
   "metadata": {
    "colab": {
     "base_uri": "https://localhost:8080/"
    },
    "id": "DtQk-yHezMJ1",
    "outputId": "4509384e-3f76-476d-a6ba-2e9bc8c1821e",
    "tags": []
   },
   "outputs": [],
   "source": [
    "# Train 결정계수\n",
    "print(knr.score(train_input, train_target))"
   ]
  },
  {
   "cell_type": "code",
   "execution_count": null,
   "metadata": {
    "colab": {
     "base_uri": "https://localhost:8080/"
    },
    "id": "E-TwI5Q-vqw6",
    "outputId": "e65a5071-9bac-429b-d88e-ba56a8e7e07a",
    "tags": []
   },
   "outputs": [],
   "source": [
    "# Train MAE\n",
    "train_prediction = knr.predict(train_input)\n",
    "mae = mean_absolute_error(train_target, train_prediction)\n",
    "print(mae)"
   ]
  },
  {
   "cell_type": "code",
   "execution_count": null,
   "metadata": {
    "colab": {
     "base_uri": "https://localhost:8080/"
    },
    "id": "04nBRiV8yGGD",
    "outputId": "a9fdc3b2-098e-40b2-c23f-6296d4ea20b1",
    "tags": []
   },
   "outputs": [],
   "source": [
    "# 모델을 좀 더 국지적 패턴에 민감하도록 만들어보자(데이터셋이....적으니까...또르르..)\n",
    "\n",
    "knr.n_neighbors = 3\n",
    "\n",
    "knr.fit(train_input, train_target)\n",
    "print(\"결정계수(train) : \", knr.score(train_input, train_target))\n",
    "print(\"결정계수(test) : \", knr.score(test_input, test_target))"
   ]
  },
  {
   "cell_type": "code",
   "execution_count": null,
   "metadata": {
    "colab": {
     "base_uri": "https://localhost:8080/"
    },
    "id": "fx3wm32Czxlg",
    "outputId": "a648e6fc-4fb7-4c39-e23a-ca856f71eafe",
    "tags": []
   },
   "outputs": [],
   "source": [
    "# 농어의 길이와 무게 데이터\n",
    "perch_length = np.array([8.4, 13.7, 15.0, 16.2, 17.4, 18.0, 18.7, 19.0, 19.6, 20.0, 21.0,\n",
    "                         21.0, 21.0, 21.3, 22.0, 22.0, 22.0, 22.0, 22.0, 22.5, 22.5, 22.7,\n",
    "                         23.0, 23.5, 24.0, 24.0, 24.6, 25.0, 25.6, 26.5, 27.3, 27.5, 27.5,\n",
    "                         27.5, 28.0, 28.7, 30.0, 32.8, 34.5, 35.0, 36.5, 36.0, 37.0, 37.0,\n",
    "                         39.0, 39.0, 39.0, 40.0, 40.0, 40.0, 40.0, 42.0, 43.0, 43.0, 43.5,\n",
    "                         44.0])\n",
    "perch_weight = np.array([5.9, 32.0, 40.0, 51.5, 70.0, 100.0, 78.0, 80.0, 85.0, 85.0, 110.0,\n",
    "                         115.0, 125.0, 130.0, 120.0, 120.0, 130.0, 135.0, 110.0, 130.0,\n",
    "                         150.0, 145.0, 150.0, 170.0, 225.0, 145.0, 188.0, 180.0, 197.0,\n",
    "                         218.0, 300.0, 260.0, 265.0, 250.0, 250.0, 300.0, 320.0, 514.0,\n",
    "                         556.0, 840.0, 685.0, 700.0, 700.0, 690.0, 900.0, 650.0, 820.0,\n",
    "                         850.0, 900.0, 1015.0, 820.0, 1100.0, 1000.0, 1100.0, 1000.0,\n",
    "                         1000.0])\n",
    "\n",
    "# 훈련세트와 테스트세트로 분할\n",
    "from sklearn.model_selection import train_test_split\n",
    "\n",
    "train_input, test_input, train_target, test_target = train_test_split(perch_length, perch_weight, random_state=42)\n",
    "\n",
    "train_input = train_input.reshape(-1, 1)\n",
    "test_input = test_input.reshape(-1, 1)\n",
    "print(train_input.shape, test_input.shape)\n",
    "\n",
    "# 모델 세팅\n"
   ]
  },
  {
   "cell_type": "code",
   "execution_count": null,
   "metadata": {
    "colab": {
     "base_uri": "https://localhost:8080/",
     "height": 504
    },
    "id": "-MbBmbCW1KEh",
    "outputId": "e6740e53-4cf3-45b3-c260-f50baa1d1a04",
    "tags": []
   },
   "outputs": [],
   "source": [
    "# KNN 회귀 알고리즘의 한계\n",
    "print(\"길이 50일 때 예측 무게 : \", knr.predict([[50]]))\n",
    "print(\"길이 100일 때 예측 무게 : \", knr.predict([[100]]))\n",
    "print()\n",
    "\n",
    "distances, indexes = knr.kneighbors([[100]])\n",
    "\n",
    "plt.scatter(train_input, train_target)\n",
    "plt.scatter(train_input[indexes], train_target[indexes], marker='D')\n",
    "plt.scatter(100, 1033, marker=\"^\")\n",
    "plt.xlabel(\"length\")\n",
    "plt.ylabel(\"weight\")\n",
    "plt.show()"
   ]
  },
  {
   "cell_type": "code",
   "execution_count": null,
   "metadata": {
    "colab": {
     "base_uri": "https://localhost:8080/"
    },
    "id": "0YeJxF2O2TBS",
    "outputId": "7c70f966-a2c6-43e7-ef5a-af589c451e8f",
    "tags": []
   },
   "outputs": [],
   "source": [
    "from sklearn.linear_model import LinearRegression\n",
    "\n",
    "lr = LinearRegression()\n",
    "lr.fit(train_input, train_target)\n",
    "\n",
    "print(\"길이 50일 때 예측 무게 : \", lr.predict([[50]]))\n",
    "print(\"길이 100일 때 예측 무게 : \", lr.predict([[100]]))"
   ]
  },
  {
   "cell_type": "code",
   "execution_count": null,
   "metadata": {
    "colab": {
     "base_uri": "https://localhost:8080/",
     "height": 449
    },
    "id": "RrM56nGE2-_3",
    "outputId": "37468611-c874-45f1-c035-49e6ba3885ff",
    "tags": []
   },
   "outputs": [],
   "source": [
    "# 그래프로 그려보자요\n",
    "plt.scatter(train_input, train_target)\n",
    "\n",
    "plt.plot([15, 100], [15 * lr.coef_ + lr.intercept_, 100 * lr.coef_ + lr.intercept_], color=\"r\")\n",
    "plt.scatter(50, lr.predict([[50]]), marker=\"^\")\n",
    "plt.scatter(100, lr.predict([[100]]), marker=\"^\")\n",
    "plt.xlabel(\"lenght\")\n",
    "plt.ylabel(\"weight\")\n",
    "plt.show()"
   ]
  },
  {
   "cell_type": "code",
   "execution_count": null,
   "metadata": {
    "colab": {
     "base_uri": "https://localhost:8080/"
    },
    "id": "dbT8b2Su5cPV",
    "outputId": "6361d528-b92e-456c-d28e-6dbd0b247e63",
    "tags": []
   },
   "outputs": [],
   "source": [
    "print(lr.score(train_input, train_target))\n",
    "print(lr.score(test_input, test_target))"
   ]
  },
  {
   "cell_type": "code",
   "execution_count": null,
   "metadata": {
    "colab": {
     "base_uri": "https://localhost:8080/"
    },
    "id": "MvhXmp2M6P_1",
    "outputId": "7dc84382-b09c-4e48-ff6f-4c75c4d64d5b",
    "tags": []
   },
   "outputs": [],
   "source": [
    "train_poly = np.column_stack((train_input ** 2, train_input))\n",
    "test_poly = np.column_stack((test_input ** 2, test_input))\n",
    "\n",
    "print(train_poly.shape, test_poly.shape)"
   ]
  },
  {
   "cell_type": "code",
   "execution_count": null,
   "metadata": {
    "colab": {
     "base_uri": "https://localhost:8080/",
     "height": 75
    },
    "id": "pOjkEE-o77hL",
    "outputId": "6a801e6b-840f-432e-f14a-b8cb57624023",
    "tags": []
   },
   "outputs": [],
   "source": [
    "lr = LinearRegression()\n",
    "lr.fit(train_poly, train_target)"
   ]
  },
  {
   "cell_type": "code",
   "execution_count": null,
   "metadata": {
    "colab": {
     "base_uri": "https://localhost:8080/",
     "height": 449
    },
    "id": "F0Ncjh968CHr",
    "outputId": "b1bba7fc-6cdc-4990-e250-702cd04d3603",
    "tags": []
   },
   "outputs": [],
   "source": [
    "# 시각화\n",
    "point = np.arange(15, 100)\n",
    "plt.scatter(train_input, train_target)\n",
    "plt.plot(point, lr.coef_[0] * point ** 2 + lr.coef_[1] * point + lr.intercept_, color=\"r\")\n",
    "plt.scatter(50, lr.predict([[50 ** 2, 50]]), marker=\"^\")\n",
    "plt.scatter(100, lr.predict([[100 ** 2, 100]]), marker=\"^\")\n",
    "plt.xlabel(\"length\")\n",
    "plt.ylabel(\"weight\")\n",
    "plt.show()"
   ]
  },
  {
   "cell_type": "code",
   "execution_count": null,
   "metadata": {
    "colab": {
     "base_uri": "https://localhost:8080/"
    },
    "id": "HOYu6bhO8rEA",
    "outputId": "fcb37997-0421-4ca5-8b9e-eeba74c26a11",
    "tags": []
   },
   "outputs": [],
   "source": [
    "print(lr.score(train_poly, train_target))\n",
    "print(lr.score(test_poly, test_target))"
   ]
  },
  {
   "cell_type": "code",
   "execution_count": null,
   "metadata": {
    "colab": {
     "base_uri": "https://localhost:8080/",
     "height": 206
    },
    "id": "pDdZg6vW9eGp",
    "outputId": "076b4d4b-4b88-4b48-bc80-4962f6a043e5",
    "tags": []
   },
   "outputs": [],
   "source": [
    "import pandas as pd\n",
    "\n",
    "fish = pd.read_csv(\"https://bit.ly/fish_csv_data\")\n",
    "fish.head()  # 처음 5개의 행 추출"
   ]
  },
  {
   "cell_type": "code",
   "execution_count": null,
   "metadata": {
    "colab": {
     "base_uri": "https://localhost:8080/"
    },
    "id": "rvUNfMmmFMm1",
    "outputId": "82480a84-5e0e-4d9b-903c-f40139451fc6",
    "tags": []
   },
   "outputs": [],
   "source": [
    "print(\"물고기 종류(Species): \", pd.unique(fish['Species']))"
   ]
  },
  {
   "cell_type": "code",
   "execution_count": null,
   "metadata": {
    "colab": {
     "base_uri": "https://localhost:8080/"
    },
    "id": "9lwiRqybHtXj",
    "outputId": "a30e1d78-e4c4-4eeb-b232-20dace542605",
    "tags": []
   },
   "outputs": [],
   "source": [
    "fish_input = fish[fish.columns.difference(['Species'])]\n",
    "print(fish_input[:5])\n",
    "print(fish_input.shape)"
   ]
  },
  {
   "cell_type": "code",
   "execution_count": null,
   "metadata": {
    "colab": {
     "base_uri": "https://localhost:8080/"
    },
    "id": "D_AR9MauH6Lr",
    "outputId": "977a19f9-ce80-4217-dca1-02a9b219bdbd",
    "tags": []
   },
   "outputs": [],
   "source": [
    "fish_target = fish['Species'].to_numpy()\n",
    "print(fish_target[:5])\n",
    "print(fish_target.shape)"
   ]
  },
  {
   "cell_type": "code",
   "execution_count": null,
   "metadata": {
    "id": "LDn3fPtoI1M7",
    "tags": []
   },
   "outputs": [],
   "source": [
    "# 훈련셋 테스트셋 분할\n",
    "from sklearn.model_selection import train_test_split\n",
    "\n",
    "train_input, test_input, train_target, test_target = train_test_split(\n",
    "    fish_input, fish_target, random_state=42\n",
    ")"
   ]
  },
  {
   "cell_type": "code",
   "execution_count": null,
   "metadata": {
    "id": "pDMC7uzbJRmY",
    "tags": []
   },
   "outputs": [],
   "source": [
    "from sklearn.preprocessing import StandardScaler\n",
    "\n",
    "ss = StandardScaler()\n",
    "ss.fit(train_input)\n",
    "train_scaled = ss.transform(train_input)\n",
    "test_scaled = ss.transform(test_input)"
   ]
  },
  {
   "cell_type": "code",
   "execution_count": null,
   "metadata": {
    "colab": {
     "base_uri": "https://localhost:8080/"
    },
    "id": "1MtJqBLIKJyu",
    "outputId": "ebeeca4d-f723-4416-cc7d-6a2ef67f2141",
    "tags": []
   },
   "outputs": [],
   "source": [
    "from sklearn.neighbors import KNeighborsClassifier\n",
    "\n",
    "kn = KNeighborsClassifier(n_neighbors=3)\n",
    "kn.fit(train_scaled, train_target)\n",
    "print(\"train set accuracy: \", kn.score(train_scaled, train_target))\n",
    "print(\"test set accuracy: \", kn.score(test_scaled, test_target))"
   ]
  },
  {
   "cell_type": "code",
   "execution_count": null,
   "metadata": {
    "colab": {
     "base_uri": "https://localhost:8080/"
    },
    "id": "3M7_ZrhWJt6o",
    "outputId": "c7862d67-bf97-415d-818e-69710dc10216",
    "tags": []
   },
   "outputs": [],
   "source": [
    "import numpy as np\n",
    "\n",
    "proba = kn.predict_proba(test_scaled[:5])\n",
    "print(np.round(proba, decimals=4))  # 소숫점 네 번째 자리까지 표시"
   ]
  },
  {
   "cell_type": "code",
   "execution_count": null,
   "metadata": {
    "colab": {
     "base_uri": "https://localhost:8080/"
    },
    "id": "PmamCV42Mvwx",
    "outputId": "99e7c5bd-3744-4ddb-c489-2dcd54ef012b",
    "tags": []
   },
   "outputs": [],
   "source": [
    "distances, indexes = kn.kneighbors(test_scaled[:5])\n",
    "print(train_target[indexes])"
   ]
  },
  {
   "cell_type": "code",
   "execution_count": null,
   "metadata": {
    "id": "_rzNL8CRM9d4",
    "tags": []
   },
   "outputs": [],
   "source": [
    "# 이진 분류를 위해 클래스 2개만 추출 (도미, 빙어)\n",
    "bream_smelt_indexes = (train_target == \"Bream\") | (train_target == \"Smelt\")\n",
    "train_bream_smelt = train_scaled[bream_smelt_indexes]\n",
    "target_bream_smelt = train_target[bream_smelt_indexes]"
   ]
  },
  {
   "cell_type": "code",
   "execution_count": null,
   "metadata": {
    "colab": {
     "base_uri": "https://localhost:8080/"
    },
    "id": "z5Eoxt0d4QOh",
    "outputId": "22cda00d-8d33-4110-d697-a5eeaa68aab4",
    "tags": []
   },
   "outputs": [],
   "source": [
    "train_bream_smelt.shape"
   ]
  },
  {
   "cell_type": "code",
   "execution_count": null,
   "metadata": {
    "colab": {
     "base_uri": "https://localhost:8080/",
     "height": 74
    },
    "id": "s2UqbdRIQO4Q",
    "outputId": "fa59c52e-d55e-4a01-b744-0de4678f68ea",
    "tags": []
   },
   "outputs": [],
   "source": [
    "from sklearn.linear_model import LogisticRegression\n",
    "\n",
    "lr = LogisticRegression()\n",
    "lr.fit(train_bream_smelt, target_bream_smelt)"
   ]
  },
  {
   "cell_type": "code",
   "execution_count": null,
   "metadata": {
    "colab": {
     "base_uri": "https://localhost:8080/"
    },
    "id": "zN3vIyQIQXeD",
    "outputId": "15058e06-a8e3-49c2-cf97-c7c1f797b2d4",
    "tags": []
   },
   "outputs": [],
   "source": [
    "print(lr.predict(train_bream_smelt[:5]))\n",
    "print(lr.predict_proba(train_bream_smelt[:5]))"
   ]
  },
  {
   "cell_type": "code",
   "execution_count": null,
   "metadata": {
    "colab": {
     "base_uri": "https://localhost:8080/"
    },
    "id": "__cCamLxQalJ",
    "outputId": "ffcf1c5d-3dc6-41f8-fe8f-12ef1a180329",
    "tags": []
   },
   "outputs": [],
   "source": [
    "# 모델 파라미터\n",
    "print(lr.coef_, lr.intercept_)"
   ]
  },
  {
   "cell_type": "code",
   "execution_count": null,
   "metadata": {
    "colab": {
     "base_uri": "https://localhost:8080/"
    },
    "id": "3Jc1sVfFQm3c",
    "outputId": "d5ce1976-942f-4112-aba4-c085a0dc2ac8",
    "tags": []
   },
   "outputs": [],
   "source": [
    "from scipy.special import expit\n",
    "\n",
    "decisions = lr.decision_function(train_bream_smelt[:5])  # output y 값\n",
    "print(expit(decisions))  # expit: 시그모이드 함수\n",
    "\n",
    "# lr.predict_proba 결과의 두번째 열과 동일!"
   ]
  },
  {
   "cell_type": "code",
   "execution_count": null,
   "metadata": {
    "colab": {
     "base_uri": "https://localhost:8080/"
    },
    "id": "SFSZmb1F5yim",
    "outputId": "36eb24cc-7b35-4018-df26-6831e85a8ace",
    "tags": []
   },
   "outputs": [],
   "source": [
    "decisions"
   ]
  },
  {
   "cell_type": "code",
   "execution_count": null,
   "metadata": {
    "colab": {
     "base_uri": "https://localhost:8080/"
    },
    "id": "FX9vPBUDRCDq",
    "outputId": "c742feae-51c6-4727-f433-b69bcdd702c2",
    "tags": []
   },
   "outputs": [],
   "source": [
    "lr = LogisticRegression(C=20, max_iter=1000)  # default: C=1, max_iter=100\n",
    "lr.fit(train_scaled, train_target)\n",
    "print(lr.score(train_scaled, train_target))\n",
    "print(lr.score(test_scaled, test_target))"
   ]
  },
  {
   "cell_type": "code",
   "execution_count": null,
   "metadata": {
    "colab": {
     "base_uri": "https://localhost:8080/"
    },
    "id": "p-ViI98cTDVa",
    "outputId": "5ce36e0e-5afa-40c0-e1cd-35a3e294873c",
    "tags": []
   },
   "outputs": [],
   "source": [
    "print(lr.predict(test_scaled[:5]))\n",
    "proba = lr.predict_proba(test_scaled[:5])\n",
    "print()\n",
    "print(lr.classes_)\n",
    "print(np.round(proba, decimals=3))"
   ]
  },
  {
   "cell_type": "code",
   "execution_count": null,
   "metadata": {
    "colab": {
     "base_uri": "https://localhost:8080/"
    },
    "id": "rJjvPD4dUtjt",
    "outputId": "f55c0413-ecf1-4c28-e99c-a94a7028ea07",
    "tags": []
   },
   "outputs": [],
   "source": [
    "print(lr.coef_.shape, lr.intercept_.shape)\n",
    "\n",
    "# (클래수 개수=7, 특성(feature)=5)"
   ]
  },
  {
   "cell_type": "code",
   "execution_count": null,
   "metadata": {
    "colab": {
     "base_uri": "https://localhost:8080/"
    },
    "id": "m7U4g0shT4Gw",
    "outputId": "c4476b96-6ac4-4446-800e-0ed4f6ddc5c2",
    "tags": []
   },
   "outputs": [],
   "source": [
    "decision = lr.decision_function(test_scaled[:5])\n",
    "print(np.round(decision, decimals=2))\n",
    "print()\n",
    "\n",
    "from scipy.special import softmax\n",
    "\n",
    "proba = softmax(decision, axis=1)\n",
    "print(np.round(proba, decimals=3))"
   ]
  },
  {
   "cell_type": "code",
   "execution_count": null,
   "metadata": {
    "colab": {
     "base_uri": "https://localhost:8080/"
    },
    "id": "wldUCxeSVXjf",
    "outputId": "a03f42bc-f3ee-481e-8307-8e6530f2e276",
    "tags": []
   },
   "outputs": [],
   "source": [
    "import torch\n",
    "from torchvision import datasets, transforms\n",
    "\n",
    "# Define a transform to normalize the data\n",
    "transform = transforms.Compose([transforms.ToTensor(),\n",
    "                                transforms.Normalize((0.5,), (0.5,))])\n",
    "\n",
    "# Download and load the training data\n",
    "trainset = datasets.FashionMNIST('~/.pytorch/F_MNIST_data/', download=True, train=True, transform=transform)\n",
    "trainloader = torch.utils.data.DataLoader(trainset, batch_size=64, shuffle=True)\n",
    "\n",
    "# Download and load the test data\n",
    "testset = datasets.FashionMNIST('~/.pytorch/F_MNIST_data/', download=True, train=False, transform=transform)\n",
    "testloader = torch.utils.data.DataLoader(testset, batch_size=64, shuffle=True)"
   ]
  },
  {
   "cell_type": "code",
   "execution_count": null,
   "metadata": {
    "id": "c87dsujxZYVA",
    "tags": []
   },
   "outputs": [],
   "source": [
    "def imshow(image, ax=None, title=None, normalize=True):\n",
    "    \"\"\"Imshow for Tensor.\"\"\"\n",
    "    if ax is None:\n",
    "        fig, ax = plt.subplots()\n",
    "    image = image.numpy().transpose((1, 2, 0))\n",
    "\n",
    "    if normalize:\n",
    "        mean = np.array([0.485, 0.456, 0.406])\n",
    "        std = np.array([0.229, 0.224, 0.225])\n",
    "        image = std * image + mean\n",
    "        image = np.clip(image, 0, 1)\n",
    "\n",
    "    ax.imshow(image)\n",
    "    ax.spines['top'].set_visible(False)\n",
    "    ax.spines['right'].set_visible(False)\n",
    "    ax.spines['left'].set_visible(False)\n",
    "    ax.spines['bottom'].set_visible(False)\n",
    "    ax.tick_params(axis='both', length=0)\n",
    "    ax.set_xticklabels('')\n",
    "    ax.set_yticklabels('')\n",
    "\n",
    "    return ax"
   ]
  },
  {
   "cell_type": "code",
   "execution_count": null,
   "metadata": {
    "colab": {
     "base_uri": "https://localhost:8080/",
     "height": 424
    },
    "id": "6OPY2mvVZfDh",
    "outputId": "e8355177-2de6-45e7-891c-3a7594b24bcf",
    "tags": []
   },
   "outputs": [],
   "source": [
    "image, label = next(iter(trainloader))\n",
    "imshow(image[0, :])"
   ]
  },
  {
   "cell_type": "code",
   "execution_count": null,
   "metadata": {
    "id": "SUsvk0PWZg2E"
   },
   "outputs": [],
   "source": [
    "import torch.nn as nn\n",
    "\n",
    "\n",
    "class Classifier(nn.Module):\n",
    "    def __init__(self):\n",
    "        super().__init__()\n",
    "        self.fc1 = nn.Linear(784, 256)\n",
    "        self.fc2 = nn.Linear(256, 128)\n",
    "        self.fc3 = nn.Linear(128, 64)\n",
    "        self.fc4 = nn.Linear(64, 10)\n",
    "\n",
    "    def forward(self, x):\n",
    "        x = x.view(x.shape[0], -1)\n",
    "        x = F.relu(self.fc1(x))\n",
    "        x = F.relu(self.fc2(x))\n",
    "        x = F.relu(self.fc3(x))\n",
    "        x = F.log_softmax(self.fc4(x), dim=1)\n",
    "\n",
    "        return x"
   ]
  },
  {
   "cell_type": "code",
   "execution_count": null,
   "metadata": {
    "colab": {
     "background_save": true,
     "base_uri": "https://localhost:8080/"
    },
    "id": "0RMQePxpaRJs",
    "outputId": "0c9b13f9-2be8-4bc7-a888-0e4540250aff"
   },
   "outputs": [],
   "source": [
    "import torch.optim as optim\n",
    "import torch.nn.functional as F\n",
    "\n",
    "model = Classifier()\n",
    "criterion = nn.NLLLoss()\n",
    "optimizer = optim.Adam(model.parameters(), lr=0.003)\n",
    "\n",
    "epochs = 50\n",
    "steps = 0\n",
    "\n",
    "train_losses, test_losses = [], []\n",
    "for e in range(epochs):\n",
    "    running_loss = 0\n",
    "    for images, labels in trainloader:\n",
    "\n",
    "        optimizer.zero_grad()\n",
    "\n",
    "        log_ps = model(images)\n",
    "        loss = criterion(log_ps, labels)\n",
    "        loss.backward()\n",
    "        optimizer.step()\n",
    "\n",
    "        running_loss += loss.item()\n",
    "\n",
    "    # for 문이 끝나면 실행한다.\n",
    "    else:\n",
    "        test_loss = 0\n",
    "        accuracy = 0\n",
    "\n",
    "        # Turn off gradients for validation, saves memory and computations\n",
    "        # 자동 미분을 꺼서 pytorch가 쓸 떼 없는 짓을 안하게 한다. (어차피 test set에서 하는 작업이므로)\n",
    "        with torch.no_grad():\n",
    "            for images, labels in testloader:\n",
    "                log_ps = model(images)\n",
    "                test_loss += criterion(log_ps, labels)\n",
    "\n",
    "                # 로그 확률에 지수 적용\n",
    "                ps = torch.exp(log_ps)\n",
    "                # topk는 k번째로 큰 숫자를 찾아내는 것이다.\n",
    "                # dim=1 는 dimension을 의미한다.\n",
    "                top_p, top_class = ps.topk(1, dim=1)\n",
    "                # labels를 top_class와 똑같은 형태로 만든다음에, 얼마나 같은게 있는지 확인한다.\n",
    "                equals = top_class == labels.view(*top_class.shape)\n",
    "                # equals를 float으로 바꾸고 평균 정확도를 구한다.\n",
    "                accuracy += torch.mean(equals.type(torch.FloatTensor))\n",
    "\n",
    "        train_losses.append(running_loss / len(trainloader))\n",
    "        test_losses.append(test_loss / len(testloader))\n",
    "\n",
    "        print(\"Epoch: {}/{}.. \".format(e + 1, epochs),\n",
    "              \"Training Loss: {:.3f}.. \".format(running_loss / len(trainloader)),\n",
    "              \"Test Loss: {:.3f}.. \".format(test_loss / len(testloader)),\n",
    "              \"Test Accuracy: {:.3f}\".format(accuracy / len(testloader)))"
   ]
  },
  {
   "cell_type": "code",
   "execution_count": null,
   "metadata": {
    "colab": {
     "base_uri": "https://localhost:8080/",
     "height": 245
    },
    "id": "2vayR7zfaa_2",
    "outputId": "06e3b86e-baa0-4f1b-83c2-344d9821088f"
   },
   "outputs": [],
   "source": [
    "# %matplotlib inline\n",
    "# %config InlineBackend.figure_format = 'retina'\n",
    "#\n",
    "# dataiter = iter(testloader)\n",
    "# images, labels = dataiter.next()\n",
    "# img = images[0]\n",
    "# img = img.resize_(1, 784)\n",
    "# ps = torch.exp(model(img))\n",
    "# view_classify(img.resize_(1, 28, 28), ps, version='Fashion')"
   ]
  },
  {
   "cell_type": "code",
   "execution_count": null,
   "metadata": {
    "colab": {
     "base_uri": "https://localhost:8080/",
     "height": 448
    },
    "id": "Itp0T6WObFki",
    "outputId": "54549af8-4dca-4fa1-bf8e-54592820c96a"
   },
   "outputs": [],
   "source": [
    "%matplotlib inline\n",
    "%config InlineBackend.figure_format='retina'\n",
    "\n",
    "import matplotlib.pyplot as plt\n",
    "\n",
    "plt.plot(train_losses, label='training loss')\n",
    "plt.plot(test_losses, label='Validation loss')\n",
    "plt.legend(frameon=False)\n"
   ]
  },
  {
   "cell_type": "code",
   "execution_count": null,
   "metadata": {
    "id": "PYXA4U8MbKwM"
   },
   "outputs": [],
   "source": [
    "# Dropout 넣어서 수정해보자\n",
    "class Classifier(nn.Module):\n",
    "    def __init__(self):\n",
    "        super().__init__()\n",
    "        self.fc1 = nn.Linear(784, 256)\n",
    "        self.fc2 = nn.Linear(256, 128)\n",
    "        self.fc3 = nn.Linear(128, 64)\n",
    "        self.fc4 = nn.Linear(64, 10)\n",
    "\n",
    "        # 0.2정도를 무작위로 골라 dropout한다.\n",
    "        self.dropout = nn.Dropout(p=0.2)\n",
    "\n",
    "    def forward(self, x):\n",
    "        x = x.view(x.shape[0], -1)\n",
    "\n",
    "        x = self.dropout(F.relu(self.fc1(x)))\n",
    "        x = self.dropout(F.relu(self.fc2(x)))\n",
    "        x = self.dropout(F.relu(self.fc3(x)))\n",
    "\n",
    "        # output은 dropout하면 안된다..\n",
    "        x = F.log_softmax(self.fc4(x), dim=1)\n",
    "\n",
    "        return x"
   ]
  },
  {
   "cell_type": "code",
   "execution_count": null,
   "metadata": {
    "colab": {
     "base_uri": "https://localhost:8080/"
    },
    "id": "kUB-l7BfbQWx",
    "outputId": "e0e1f5cb-fb70-4c06-c82d-7aefb5641180"
   },
   "outputs": [],
   "source": [
    "# 다시학습...\n",
    "\n",
    "model = Classifier()\n",
    "criterion = nn.NLLLoss()\n",
    "optimizer = optim.Adam(model.parameters(), lr=0.003)\n",
    "\n",
    "epochs = 50\n",
    "steps = 0\n",
    "\n",
    "train_losses, test_losses = [], []\n",
    "for e in range(epochs):\n",
    "    running_loss = 0\n",
    "    for images, labels in trainloader:\n",
    "\n",
    "        optimizer.zero_grad()\n",
    "\n",
    "        log_ps = model(images)\n",
    "        loss = criterion(log_ps, labels)\n",
    "        loss.backward()\n",
    "        optimizer.step()\n",
    "\n",
    "        running_loss += loss.item()\n",
    "\n",
    "    else:\n",
    "        test_loss = 0\n",
    "        accuracy = 0\n",
    "\n",
    "        with torch.no_grad():\n",
    "            # test 과정에 들어간다. dropout을 안하게 된다.\n",
    "            # 정확하게 말하면, dropout 하는 비율이 0이 된다.\n",
    "            model.eval()\n",
    "            for images, labels in testloader:\n",
    "                log_ps = model(images)\n",
    "                test_loss += criterion(log_ps, labels)\n",
    "\n",
    "                ps = torch.exp(log_ps)\n",
    "                top_p, top_class = ps.topk(1, dim=1)\n",
    "                equals = top_class == labels.view(*top_class.shape)\n",
    "                accuracy += torch.mean(equals.type(torch.FloatTensor))\n",
    "\n",
    "        # 다시 트레이닝 과정으로 돌아간다.\n",
    "        model.train()\n",
    "\n",
    "        train_losses.append(running_loss / len(trainloader))\n",
    "        test_losses.append(test_loss / len(testloader))\n",
    "\n",
    "        print(\"Epoch: {}/{}.. \".format(e + 1, epochs),\n",
    "              \"Training Loss: {:.3f}.. \".format(train_losses[-1]),\n",
    "              \"Test Loss: {:.3f}.. \".format(test_losses[-1]),\n",
    "              \"Test Accuracy: {:.3f}\".format(accuracy / len(testloader)))"
   ]
  },
  {
   "cell_type": "code",
   "execution_count": null,
   "metadata": {
    "colab": {
     "base_uri": "https://localhost:8080/",
     "height": 448
    },
    "id": "0vtsYN5ybS0D",
    "outputId": "d3e92ba9-99fd-42fa-99ed-de7a4e3a1932"
   },
   "outputs": [],
   "source": [
    "plt.plot(train_losses, label='Training loss')\n",
    "plt.plot(test_losses, label='Validation loss')\n",
    "plt.legend(frameon=False)"
   ]
  }
 ],
 "metadata": {
  "colab": {
   "provenance": []
  },
  "kernelspec": {
   "display_name": "Python 3 (ipykernel)",
   "language": "python",
   "name": "python3"
  },
  "language_info": {
   "codemirror_mode": {
    "name": "ipython",
    "version": 3
   },
   "file_extension": ".py",
   "mimetype": "text/x-python",
   "name": "python",
   "nbconvert_exporter": "python",
   "pygments_lexer": "ipython3",
   "version": "3.11.3"
  }
 },
 "nbformat": 4,
 "nbformat_minor": 4
}

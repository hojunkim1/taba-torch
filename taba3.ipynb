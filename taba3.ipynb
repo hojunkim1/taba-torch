{
 "cells": [
  {
   "cell_type": "code",
   "execution_count": 35,
   "metadata": {
    "collapsed": true,
    "ExecuteTime": {
     "end_time": "2023-07-28T01:49:56.311545Z",
     "start_time": "2023-07-28T01:49:56.284795Z"
    }
   },
   "outputs": [],
   "source": [
    "import torch\n",
    "import torch.nn as nn"
   ]
  },
  {
   "cell_type": "code",
   "execution_count": 36,
   "outputs": [
    {
     "data": {
      "text/plain": "{'code', 'how', 'know', 'need', 'to', 'you'}"
     },
     "execution_count": 36,
     "metadata": {},
     "output_type": "execute_result"
    }
   ],
   "source": [
    "train_data = \"you need to know how to code\"\n",
    "word_set = set(train_data.split())\n",
    "word_set"
   ],
   "metadata": {
    "collapsed": false,
    "ExecuteTime": {
     "end_time": "2023-07-28T01:49:56.354480Z",
     "start_time": "2023-07-28T01:49:56.288562Z"
    }
   }
  },
  {
   "cell_type": "code",
   "execution_count": 37,
   "outputs": [
    {
     "data": {
      "text/plain": "{'know': 0, 'you': 1, 'how': 2, 'need': 3, 'to': 4, 'code': 5}"
     },
     "execution_count": 37,
     "metadata": {},
     "output_type": "execute_result"
    }
   ],
   "source": [
    "vocab = {token: i for i, token in enumerate(word_set)}\n",
    "vocab"
   ],
   "metadata": {
    "collapsed": false,
    "ExecuteTime": {
     "end_time": "2023-07-28T01:49:56.354743Z",
     "start_time": "2023-07-28T01:49:56.296485Z"
    }
   }
  },
  {
   "cell_type": "code",
   "execution_count": 38,
   "outputs": [
    {
     "data": {
      "text/plain": "{'know': 0, 'you': 1, 'how': 2, 'need': 3, 'to': 4, 'code': 5}"
     },
     "execution_count": 38,
     "metadata": {},
     "output_type": "execute_result"
    }
   ],
   "source": [
    "vocab2 = {}\n",
    "for i, token in enumerate(word_set):\n",
    "    vocab2[token] = i\n",
    "\n",
    "vocab2"
   ],
   "metadata": {
    "collapsed": false,
    "ExecuteTime": {
     "end_time": "2023-07-28T01:49:56.379343Z",
     "start_time": "2023-07-28T01:49:56.300418Z"
    }
   }
  },
  {
   "cell_type": "code",
   "execution_count": 39,
   "outputs": [
    {
     "data": {
      "text/plain": "6"
     },
     "execution_count": 39,
     "metadata": {},
     "output_type": "execute_result"
    }
   ],
   "source": [
    "len(vocab)"
   ],
   "metadata": {
    "collapsed": false,
    "ExecuteTime": {
     "end_time": "2023-07-28T01:49:56.379923Z",
     "start_time": "2023-07-28T01:49:56.309065Z"
    }
   }
  },
  {
   "cell_type": "code",
   "execution_count": 40,
   "outputs": [],
   "source": [
    "embedding_layer = nn.Embedding(num_embeddings=len(vocab), embedding_dim=3)\n",
    "# num_embeddings: 임베딩 할 단어의 개수\n",
    "# embedding_dim: 임베딩 벡터의 차 (지정)"
   ],
   "metadata": {
    "collapsed": false,
    "ExecuteTime": {
     "end_time": "2023-07-28T01:49:56.380081Z",
     "start_time": "2023-07-28T01:49:56.312930Z"
    }
   }
  },
  {
   "cell_type": "code",
   "execution_count": 41,
   "outputs": [
    {
     "data": {
      "text/plain": "tensor([5])"
     },
     "execution_count": 41,
     "metadata": {},
     "output_type": "execute_result"
    }
   ],
   "source": [
    "lookup_tensor = torch.tensor([vocab[\"code\"]], dtype=torch.long)\n",
    "lookup_tensor"
   ],
   "metadata": {
    "collapsed": false,
    "ExecuteTime": {
     "end_time": "2023-07-28T01:49:56.380265Z",
     "start_time": "2023-07-28T01:49:56.317124Z"
    }
   }
  },
  {
   "cell_type": "code",
   "execution_count": 42,
   "outputs": [
    {
     "data": {
      "text/plain": "tensor([[-2.1061,  0.6634, -1.2356]], grad_fn=<EmbeddingBackward0>)"
     },
     "execution_count": 42,
     "metadata": {},
     "output_type": "execute_result"
    }
   ],
   "source": [
    "w = embedding_layer(lookup_tensor)\n",
    "w"
   ],
   "metadata": {
    "collapsed": false,
    "ExecuteTime": {
     "end_time": "2023-07-28T01:49:56.380430Z",
     "start_time": "2023-07-28T01:49:56.321969Z"
    }
   }
  },
  {
   "cell_type": "code",
   "execution_count": 43,
   "outputs": [
    {
     "data": {
      "text/plain": "Parameter containing:\ntensor([[-0.4081,  0.7664, -1.0259],\n        [-0.8943,  0.5873, -0.9530],\n        [ 0.2683,  0.5069,  0.5527],\n        [ 0.0965, -0.9875, -1.9082],\n        [-0.0070, -0.4149, -1.0174],\n        [-2.1061,  0.6634, -1.2356]], requires_grad=True)"
     },
     "execution_count": 43,
     "metadata": {},
     "output_type": "execute_result"
    }
   ],
   "source": [
    "embedding_layer.weight"
   ],
   "metadata": {
    "collapsed": false,
    "ExecuteTime": {
     "end_time": "2023-07-28T01:49:56.380544Z",
     "start_time": "2023-07-28T01:49:56.325474Z"
    }
   }
  },
  {
   "cell_type": "code",
   "execution_count": 45,
   "outputs": [
    {
     "data": {
      "text/plain": "tensor([[-0.8943,  0.5873, -0.9530],\n        [ 0.0965, -0.9875, -1.9082],\n        [-2.1061,  0.6634, -1.2356]], grad_fn=<EmbeddingBackward0>)"
     },
     "execution_count": 45,
     "metadata": {},
     "output_type": "execute_result"
    }
   ],
   "source": [
    "lookup_tensor2 = torch.tensor([vocab[\"you\"], vocab[\"need\"], vocab[\"code\"]], dtype=torch.long)\n",
    "w = embedding_layer(lookup_tensor2)\n",
    "w"
   ],
   "metadata": {
    "collapsed": false,
    "ExecuteTime": {
     "end_time": "2023-07-28T01:49:59.799954Z",
     "start_time": "2023-07-28T01:49:59.779353Z"
    }
   }
  },
  {
   "cell_type": "code",
   "execution_count": null,
   "outputs": [],
   "source": [],
   "metadata": {
    "collapsed": false
   }
  }
 ],
 "metadata": {
  "kernelspec": {
   "display_name": "Python 3",
   "language": "python",
   "name": "python3"
  },
  "language_info": {
   "codemirror_mode": {
    "name": "ipython",
    "version": 2
   },
   "file_extension": ".py",
   "mimetype": "text/x-python",
   "name": "python",
   "nbconvert_exporter": "python",
   "pygments_lexer": "ipython2",
   "version": "2.7.6"
  }
 },
 "nbformat": 4,
 "nbformat_minor": 0
}

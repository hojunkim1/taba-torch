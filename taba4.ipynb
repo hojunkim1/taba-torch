{
 "cells": [
  {
   "cell_type": "code",
   "execution_count": 92,
   "metadata": {
    "collapsed": true,
    "ExecuteTime": {
     "end_time": "2023-07-30T04:29:13.420563Z",
     "start_time": "2023-07-30T04:29:13.404395Z"
    }
   },
   "outputs": [],
   "source": [
    "import numpy as np"
   ]
  },
  {
   "cell_type": "code",
   "execution_count": 93,
   "outputs": [],
   "source": [
    "timestamps = 10\n",
    "input_size = 4\n",
    "hidden_size = 8"
   ],
   "metadata": {
    "collapsed": false,
    "ExecuteTime": {
     "end_time": "2023-07-30T04:29:13.420828Z",
     "start_time": "2023-07-30T04:29:13.409858Z"
    }
   }
  },
  {
   "cell_type": "code",
   "execution_count": 94,
   "outputs": [
    {
     "data": {
      "text/plain": "array([[0.23698546, 0.4379233 , 0.47535597, 0.12789656],\n       [0.15602255, 0.0664475 , 0.30425749, 0.62934152],\n       [0.30263577, 0.16797915, 0.21591057, 0.25435593],\n       [0.29788018, 0.15007267, 0.66842621, 0.32867039],\n       [0.642584  , 0.70374887, 0.59645014, 0.53967161],\n       [0.15591522, 0.67362318, 0.13149829, 0.88583854],\n       [0.9845073 , 0.36689232, 0.98193478, 0.275033  ],\n       [0.63644925, 0.58836758, 0.6803463 , 0.51469344],\n       [0.29026742, 0.87041909, 0.71938604, 0.50684129],\n       [0.83830596, 0.13727654, 0.42128529, 0.55687669]])"
     },
     "execution_count": 94,
     "metadata": {},
     "output_type": "execute_result"
    }
   ],
   "source": [
    "inputs = np.random.random((timestamps, input_size))\n",
    "inputs"
   ],
   "metadata": {
    "collapsed": false,
    "ExecuteTime": {
     "end_time": "2023-07-30T04:29:13.421118Z",
     "start_time": "2023-07-30T04:29:13.415278Z"
    }
   }
  },
  {
   "cell_type": "code",
   "execution_count": 95,
   "outputs": [
    {
     "data": {
      "text/plain": "array([0.001, 0.001, 0.001, 0.001, 0.001, 0.001, 0.001, 0.001])"
     },
     "execution_count": 95,
     "metadata": {},
     "output_type": "execute_result"
    }
   ],
   "source": [
    "hidden_state_t = np.ones(hidden_size) * 0.001\n",
    "hidden_state_t"
   ],
   "metadata": {
    "collapsed": false,
    "ExecuteTime": {
     "end_time": "2023-07-30T04:29:13.430757Z",
     "start_time": "2023-07-30T04:29:13.420362Z"
    }
   }
  },
  {
   "cell_type": "code",
   "execution_count": 96,
   "outputs": [],
   "source": [
    "Wx = np.random.random((hidden_size, input_size))\n",
    "Wh = np.random.random((hidden_size, hidden_size))\n",
    "b = np.random.random(hidden_size)"
   ],
   "metadata": {
    "collapsed": false,
    "ExecuteTime": {
     "end_time": "2023-07-30T04:29:13.431122Z",
     "start_time": "2023-07-30T04:29:13.426441Z"
    }
   }
  },
  {
   "cell_type": "code",
   "execution_count": 97,
   "outputs": [
    {
     "name": "stdout",
     "output_type": "stream",
     "text": [
      "(8, 4)\n",
      "(8, 8)\n",
      "(8,)\n"
     ]
    }
   ],
   "source": [
    "print(np.shape(Wx))\n",
    "print(np.shape(Wh))\n",
    "print(np.shape(b))"
   ],
   "metadata": {
    "collapsed": false,
    "ExecuteTime": {
     "end_time": "2023-07-30T04:29:13.455558Z",
     "start_time": "2023-07-30T04:29:13.431040Z"
    }
   }
  },
  {
   "cell_type": "code",
   "execution_count": 98,
   "outputs": [
    {
     "data": {
      "text/plain": "array([0.5138171 , 0.36746742, 0.53333489, 1.0110641 , 0.57105496,\n       0.87163777, 0.77710667, 0.6397639 ])"
     },
     "execution_count": 98,
     "metadata": {},
     "output_type": "execute_result"
    }
   ],
   "source": [
    "np.dot(Wx, inputs[0])"
   ],
   "metadata": {
    "collapsed": false,
    "ExecuteTime": {
     "end_time": "2023-07-30T04:29:13.456183Z",
     "start_time": "2023-07-30T04:29:13.434905Z"
    }
   }
  },
  {
   "cell_type": "code",
   "execution_count": 99,
   "outputs": [],
   "source": [
    "c = 10\n",
    "d = 20"
   ],
   "metadata": {
    "collapsed": false,
    "ExecuteTime": {
     "end_time": "2023-07-30T04:29:13.456311Z",
     "start_time": "2023-07-30T04:29:13.437816Z"
    }
   }
  },
  {
   "cell_type": "code",
   "execution_count": 100,
   "outputs": [
    {
     "data": {
      "text/plain": "(10, 8)"
     },
     "execution_count": 100,
     "metadata": {},
     "output_type": "execute_result"
    }
   ],
   "source": [
    "total_hidden_states = []\n",
    "\n",
    "for input_t in inputs:\n",
    "    output_t = np.tanh(np.dot(Wx, input_t) + np.dot(Wh, hidden_state_t) + b)\n",
    "    total_hidden_states.append(list(output_t))\n",
    "    hidden_state_t = output_t\n",
    "\n",
    "np.shape(total_hidden_states)"
   ],
   "metadata": {
    "collapsed": false,
    "ExecuteTime": {
     "end_time": "2023-07-30T04:29:13.456437Z",
     "start_time": "2023-07-30T04:29:13.441854Z"
    }
   }
  },
  {
   "cell_type": "code",
   "execution_count": 100,
   "outputs": [],
   "source": [],
   "metadata": {
    "collapsed": false,
    "ExecuteTime": {
     "end_time": "2023-07-30T04:29:13.456499Z",
     "start_time": "2023-07-30T04:29:13.444521Z"
    }
   }
  }
 ],
 "metadata": {
  "kernelspec": {
   "display_name": "Python 3",
   "language": "python",
   "name": "python3"
  },
  "language_info": {
   "codemirror_mode": {
    "name": "ipython",
    "version": 2
   },
   "file_extension": ".py",
   "mimetype": "text/x-python",
   "name": "python",
   "nbconvert_exporter": "python",
   "pygments_lexer": "ipython2",
   "version": "2.7.6"
  }
 },
 "nbformat": 4,
 "nbformat_minor": 0
}
